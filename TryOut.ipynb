{
  "nbformat": 4,
  "nbformat_minor": 0,
  "metadata": {
    "colab": {
      "name": "TryOut.ipynb",
      "provenance": [],
      "collapsed_sections": [],
      "authorship_tag": "ABX9TyNU1XODQGeX0ehg9PFxypoQ",
      "include_colab_link": true
    },
    "kernelspec": {
      "name": "python3",
      "display_name": "Python 3"
    }
  },
  "cells": [
    {
      "cell_type": "markdown",
      "metadata": {
        "id": "view-in-github",
        "colab_type": "text"
      },
      "source": [
        "<a href=\"https://colab.research.google.com/github/phikrey/PK_NMA/blob/master/TryOut.ipynb\" target=\"_parent\"><img src=\"https://colab.research.google.com/assets/colab-badge.svg\" alt=\"Open In Colab\"/></a>"
      ]
    },
    {
      "cell_type": "code",
      "metadata": {
        "id": "hGTgpYZ4zVdy",
        "colab_type": "code",
        "colab": {}
      },
      "source": [
        "from google.colab import files\n",
        "files.upload()"
      ],
      "execution_count": null,
      "outputs": []
    },
    {
      "cell_type": "markdown",
      "metadata": {
        "id": "YLslFLoO31pT",
        "colab_type": "text"
      },
      "source": [
        "How to upload files in Google Colab\n",
        "--> opens finder browser to search for files on your computer to upload.\n",
        "--> needs be re-run every time when ipening browser/google colab."
      ]
    },
    {
      "cell_type": "code",
      "metadata": {
        "id": "EjE4H92q4U0u",
        "colab_type": "code",
        "colab": {}
      },
      "source": [
        "import numpy as np\n",
        "\n",
        "np.loadtxt(fname='FILENAME.csv', delimiter=',')"
      ],
      "execution_count": null,
      "outputs": []
    },
    {
      "cell_type": "markdown",
      "metadata": {
        "id": "d6s-VzLV5Hob",
        "colab_type": "text"
      },
      "source": [
        "Once Data is uploaded, you can read it in with e.g. np.loadtxt ..."
      ]
    }
  ]
}