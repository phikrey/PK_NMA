{
  "nbformat": 4,
  "nbformat_minor": 0,
  "metadata": {
    "colab": {
      "name": "TryOut.ipynb",
      "provenance": [],
      "authorship_tag": "ABX9TyMqFZdPkPH4Q/3OoS99t1Bn",
      "include_colab_link": true
    },
    "kernelspec": {
      "name": "python3",
      "display_name": "Python 3"
    }
  },
  "cells": [
    {
      "cell_type": "markdown",
      "metadata": {
        "id": "view-in-github",
        "colab_type": "text"
      },
      "source": [
        "<a href=\"https://colab.research.google.com/github/phikrey/PK_NMA/blob/master/TryOut.ipynb\" target=\"_parent\"><img src=\"https://colab.research.google.com/assets/colab-badge.svg\" alt=\"Open In Colab\"/></a>"
      ]
    },
    {
      "cell_type": "code",
      "metadata": {
        "id": "hGTgpYZ4zVdy",
        "colab_type": "code",
        "colab": {}
      },
      "source": [
        "bla"
      ],
      "execution_count": null,
      "outputs": []
    }
  ]
}